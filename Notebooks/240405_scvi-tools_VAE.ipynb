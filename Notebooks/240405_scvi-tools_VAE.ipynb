{
 "cells": [
  {
   "cell_type": "code",
   "execution_count": 2,
   "metadata": {},
   "outputs": [
    {
     "name": "stderr",
     "output_type": "stream",
     "text": [
      "/home/ceger/miniforge3/envs/pytorch-env/lib/python3.10/site-packages/tqdm/auto.py:21: TqdmWarning: IProgress not found. Please update jupyter and ipywidgets. See https://ipywidgets.readthedocs.io/en/stable/user_install.html\n",
      "  from .autonotebook import tqdm as notebook_tqdm\n",
      "/home/ceger/miniforge3/envs/pytorch-env/lib/python3.10/site-packages/flax/struct.py:132: FutureWarning: jax.tree_util.register_keypaths is deprecated, and will be removed in a future release. Please use `register_pytree_with_keys()` instead.\n",
      "  jax.tree_util.register_keypaths(data_clz, keypaths)\n",
      "/home/ceger/miniforge3/envs/pytorch-env/lib/python3.10/site-packages/flax/struct.py:132: FutureWarning: jax.tree_util.register_keypaths is deprecated, and will be removed in a future release. Please use `register_pytree_with_keys()` instead.\n",
      "  jax.tree_util.register_keypaths(data_clz, keypaths)\n",
      "/home/ceger/miniforge3/envs/pytorch-env/lib/python3.10/site-packages/flax/struct.py:132: FutureWarning: jax.tree_util.register_keypaths is deprecated, and will be removed in a future release. Please use `register_pytree_with_keys()` instead.\n",
      "  jax.tree_util.register_keypaths(data_clz, keypaths)\n"
     ]
    }
   ],
   "source": [
    "import scvi\n",
    "import scanpy as sc\n",
    "import numpy as np"
   ]
  },
  {
   "cell_type": "code",
   "execution_count": 35,
   "metadata": {},
   "outputs": [],
   "source": [
    "import torch\n",
    "from torch import nn\n",
    "from torch.distributions import Normal\n",
    "from torch.nn import ModuleList"
   ]
  },
  {
   "cell_type": "code",
   "execution_count": 4,
   "metadata": {},
   "outputs": [
    {
     "data": {
      "text/plain": [
       "AnnData object with n_obs × n_vars = 97573 × 27208\n",
       "    obs: 'sex', 'age', 'ethnicity', 'PaCO2', 'donor', 'infection', 'disease', 'SMK', 'illumina_stimunr', 'bd_rhapsody', 'n_genes', 'doublet_scores', 'predicted_doublets', 'batch', 'n_genes_by_counts', 'total_counts', 'total_counts_mt', 'pct_counts_mt', 'total_counts_ribo', 'pct_counts_ribo', 'percent_mt2', 'n_counts', 'percent_chrY', 'XIST-counts', 'S_score', 'G2M_score', 'condition', 'sample_group', 'IAV_score', 'group', 'Viral_score', 'cell_type', 'cell_states', 'leiden', 'cell_compartment', 'seed_labels', '_scvi_batch', '_scvi_labels', 'C_scANVI'\n",
       "    var: 'mt', 'ribo'\n",
       "    obsm: 'X_scANVI', 'X_scVI', 'X_umap'"
      ]
     },
     "execution_count": 4,
     "metadata": {},
     "output_type": "execute_result"
    }
   ],
   "source": [
    "adata = sc.read_h5ad(\n",
    "    '../data/Marburg_cell_states_locked_scANVI_ctl230901.raw.h5ad'\n",
    ")\n",
    "adata"
   ]
  },
  {
   "cell_type": "code",
   "execution_count": 5,
   "metadata": {},
   "outputs": [],
   "source": [
    "adata.layers['counts'] = adata.X.copy()"
   ]
  },
  {
   "cell_type": "code",
   "execution_count": 6,
   "metadata": {},
   "outputs": [],
   "source": [
    "sc.pp.highly_variable_genes(\n",
    "    adata=adata,\n",
    "    n_top_genes=3000,\n",
    "    layer='counts',\n",
    "    flavor='seurat_v3',\n",
    "    batch_key='batch'\n",
    ")"
   ]
  },
  {
   "cell_type": "code",
   "execution_count": 7,
   "metadata": {},
   "outputs": [],
   "source": [
    "scvi.model.SCVI.setup_anndata(\n",
    "    adata=adata,\n",
    "    layer='counts',\n",
    "    batch_key='donor',\n",
    ")"
   ]
  },
  {
   "cell_type": "code",
   "execution_count": 8,
   "metadata": {},
   "outputs": [],
   "source": [
    "model = scvi.model.SCVI(\n",
    "    adata=adata,\n",
    "    n_latent=50,\n",
    "    n_hidden=3,\n",
    ")"
   ]
  },
  {
   "cell_type": "code",
   "execution_count": 9,
   "metadata": {},
   "outputs": [
    {
     "data": {
      "text/html": [
       "<pre style=\"white-space:pre;overflow-x:auto;line-height:normal;font-family:Menlo,'DejaVu Sans Mono',consolas,'Courier New',monospace\">SCVI model with the following parameters: \n",
       "n_hidden: <span style=\"color: #008080; text-decoration-color: #008080; font-weight: bold\">3</span>, n_latent: <span style=\"color: #008080; text-decoration-color: #008080; font-weight: bold\">50</span>, n_layers: <span style=\"color: #008080; text-decoration-color: #008080; font-weight: bold\">1</span>, dropout_rate: <span style=\"color: #008080; text-decoration-color: #008080; font-weight: bold\">0.1</span>, dispersion: gene, gene_likelihood: zinb, \n",
       "latent_distribution: normal.\n",
       "Training status: Not Trained\n",
       "Model's adata is minified?: <span style=\"color: #ff0000; text-decoration-color: #ff0000; font-style: italic\">False</span>\n",
       "</pre>\n"
      ],
      "text/plain": [
       "SCVI model with the following parameters: \n",
       "n_hidden: \u001b[1;36m3\u001b[0m, n_latent: \u001b[1;36m50\u001b[0m, n_layers: \u001b[1;36m1\u001b[0m, dropout_rate: \u001b[1;36m0.1\u001b[0m, dispersion: gene, gene_likelihood: zinb, \n",
       "latent_distribution: normal.\n",
       "Training status: Not Trained\n",
       "Model's adata is minified?: \u001b[3;91mFalse\u001b[0m\n"
      ]
     },
     "metadata": {},
     "output_type": "display_data"
    },
    {
     "data": {
      "text/plain": []
     },
     "execution_count": 9,
     "metadata": {},
     "output_type": "execute_result"
    }
   ],
   "source": [
    "model"
   ]
  },
  {
   "cell_type": "code",
   "execution_count": 16,
   "metadata": {},
   "outputs": [
    {
     "data": {
      "text/plain": [
       "{'n_hidden': 3,\n",
       " 'n_latent': 50,\n",
       " 'n_layers': 1,\n",
       " 'dropout_rate': 0.1,\n",
       " 'dispersion': 'gene',\n",
       " 'gene_likelihood': 'zinb',\n",
       " 'latent_distribution': 'normal'}"
      ]
     },
     "execution_count": 16,
     "metadata": {},
     "output_type": "execute_result"
    }
   ],
   "source": [
    "model._module_kwargs"
   ]
  },
  {
   "cell_type": "code",
   "execution_count": 99,
   "metadata": {},
   "outputs": [
    {
     "data": {
      "text/plain": [
       "VAE(\n",
       "  (z_encoder): Encoder(\n",
       "    (encoder): FCLayers(\n",
       "      (fc_layers): Sequential(\n",
       "        (Layer 0): Sequential(\n",
       "          (0): Linear(in_features=27208, out_features=3, bias=True)\n",
       "          (1): BatchNorm1d(3, eps=0.001, momentum=0.01, affine=True, track_running_stats=True)\n",
       "          (2): None\n",
       "          (3): ReLU()\n",
       "          (4): Dropout(p=0.1, inplace=False)\n",
       "        )\n",
       "      )\n",
       "    )\n",
       "    (mean_encoder): Linear(in_features=3, out_features=50, bias=True)\n",
       "    (var_encoder): Linear(in_features=3, out_features=50, bias=True)\n",
       "  )\n",
       "  (l_encoder): Encoder(\n",
       "    (encoder): FCLayers(\n",
       "      (fc_layers): Sequential(\n",
       "        (Layer 0): Sequential(\n",
       "          (0): Linear(in_features=27208, out_features=3, bias=True)\n",
       "          (1): BatchNorm1d(3, eps=0.001, momentum=0.01, affine=True, track_running_stats=True)\n",
       "          (2): None\n",
       "          (3): ReLU()\n",
       "          (4): Dropout(p=0.1, inplace=False)\n",
       "        )\n",
       "      )\n",
       "    )\n",
       "    (mean_encoder): Linear(in_features=3, out_features=1, bias=True)\n",
       "    (var_encoder): Linear(in_features=3, out_features=1, bias=True)\n",
       "  )\n",
       "  (decoder): DecoderSCVI(\n",
       "    (px_decoder): FCLayers(\n",
       "      (fc_layers): Sequential(\n",
       "        (Layer 0): Sequential(\n",
       "          (0): Linear(in_features=62, out_features=3, bias=True)\n",
       "          (1): BatchNorm1d(3, eps=0.001, momentum=0.01, affine=True, track_running_stats=True)\n",
       "          (2): None\n",
       "          (3): ReLU()\n",
       "          (4): None\n",
       "        )\n",
       "      )\n",
       "    )\n",
       "    (px_scale_decoder): Sequential(\n",
       "      (0): Linear(in_features=3, out_features=27208, bias=True)\n",
       "      (1): Softmax(dim=-1)\n",
       "    )\n",
       "    (px_r_decoder): Linear(in_features=3, out_features=27208, bias=True)\n",
       "    (px_dropout_decoder): Linear(in_features=3, out_features=27208, bias=True)\n",
       "  )\n",
       ")"
      ]
     },
     "execution_count": 99,
     "metadata": {},
     "output_type": "execute_result"
    }
   ],
   "source": [
    "model.module"
   ]
  },
  {
   "cell_type": "markdown",
   "metadata": {},
   "source": [
    "## FC Layer Class"
   ]
  },
  {
   "cell_type": "code",
   "execution_count": 47,
   "metadata": {},
   "outputs": [
    {
     "data": {
      "text/plain": [
       "Sequential(\n",
       "  (Layer 0): Sequential(\n",
       "    (0): Linear(in_features=27208, out_features=3, bias=True)\n",
       "    (1): BatchNorm1d(3, eps=0.001, momentum=0.01, affine=True, track_running_stats=True)\n",
       "    (2): None\n",
       "    (3): ReLU()\n",
       "    (4): Dropout(p=0.1, inplace=False)\n",
       "  )\n",
       ")"
      ]
     },
     "execution_count": 47,
     "metadata": {},
     "output_type": "execute_result"
    }
   ],
   "source": [
    "model.module.z_encoder.encoder.fc_layers"
   ]
  },
  {
   "cell_type": "code",
   "execution_count": 108,
   "metadata": {},
   "outputs": [],
   "source": [
    "class FCLayers(nn.Module):\n",
    "\n",
    "    def __init__(self, in_features, out_features, bias):\n",
    "        super().__init__()\n",
    "        self.in_features = in_features\n",
    "        self.out_features = out_features\n",
    "        self.bias = bias\n",
    "        self.fc_layers = nn.Sequential(\n",
    "            nn.Linear(\n",
    "                in_features=in_features,\n",
    "                out_features=out_features,\n",
    "                bias=bias,\n",
    "            ),\n",
    "            nn.BatchNorm1d(\n",
    "                3,\n",
    "                eps=0.001,\n",
    "                momentum=0.01,\n",
    "                affine=True,\n",
    "                track_running_stats=True\n",
    "            ),\n",
    "            nn.ReLU(),\n",
    "            nn.Dropout(\n",
    "                p=0.1,\n",
    "                inplace=False,\n",
    "            )\n",
    "\n",
    "        )\n",
    "    \n",
    "    def forward(self, x):\n",
    "        x = self.fc_layers(x)\n",
    "        return x"
   ]
  },
  {
   "cell_type": "code",
   "execution_count": 109,
   "metadata": {},
   "outputs": [
    {
     "data": {
      "text/plain": [
       "FCLayers(\n",
       "  (fc_layers): Sequential(\n",
       "    (0): Linear(in_features=27208, out_features=3, bias=True)\n",
       "    (1): BatchNorm1d(3, eps=0.001, momentum=0.01, affine=True, track_running_stats=True)\n",
       "    (2): ReLU()\n",
       "    (3): Dropout(p=0.1, inplace=False)\n",
       "  )\n",
       ")"
      ]
     },
     "execution_count": 109,
     "metadata": {},
     "output_type": "execute_result"
    }
   ],
   "source": [
    "FCLayers(\n",
    "    in_features=27208,\n",
    "    out_features=3,\n",
    "    bias=True,\n",
    ")"
   ]
  },
  {
   "cell_type": "markdown",
   "metadata": {},
   "source": [
    "## Encoder Class"
   ]
  },
  {
   "cell_type": "code",
   "execution_count": 74,
   "metadata": {},
   "outputs": [
    {
     "data": {
      "text/plain": [
       "FCLayers(\n",
       "  (fc_layers): Sequential(\n",
       "    (Layer 0): Sequential(\n",
       "      (0): Linear(in_features=27208, out_features=3, bias=True)\n",
       "      (1): BatchNorm1d(3, eps=0.001, momentum=0.01, affine=True, track_running_stats=True)\n",
       "      (2): None\n",
       "      (3): ReLU()\n",
       "      (4): Dropout(p=0.1, inplace=False)\n",
       "    )\n",
       "  )\n",
       ")"
      ]
     },
     "execution_count": 74,
     "metadata": {},
     "output_type": "execute_result"
    }
   ],
   "source": [
    "model.module.z_encoder.encoder"
   ]
  },
  {
   "cell_type": "code",
   "execution_count": 76,
   "metadata": {},
   "outputs": [],
   "source": [
    "class Encoder(nn.Module):\n",
    "\n",
    "    def __init__(\n",
    "            self,\n",
    "            fc_in,\n",
    "            fc_out,\n",
    "            fc_bias,\n",
    "    ):\n",
    "        self.fc_in = fc_in\n",
    "        self.fc_out = fc_out\n",
    "        self.fc_bias = fc_bias\n",
    "        super().__init__()\n",
    "        self.encoder = FCLayers(\n",
    "            in_features=fc_in,\n",
    "            out_features=fc_out,\n",
    "            bias=fc_bias,\n",
    "        )\n",
    "\n",
    "    def forward(self, x):\n",
    "        pass"
   ]
  },
  {
   "cell_type": "code",
   "execution_count": 77,
   "metadata": {},
   "outputs": [
    {
     "data": {
      "text/plain": [
       "Encoder(\n",
       "  (encoder): FCLayers(\n",
       "    (fc_layers): Sequential(\n",
       "      (0): Linear(in_features=27208, out_features=3, bias=True)\n",
       "      (1): BatchNorm1d(3, eps=0.001, momentum=0.01, affine=True, track_running_stats=True)\n",
       "      (2): ReLU()\n",
       "      (3): Dropout(p=0.1, inplace=False)\n",
       "    )\n",
       "  )\n",
       ")"
      ]
     },
     "execution_count": 77,
     "metadata": {},
     "output_type": "execute_result"
    }
   ],
   "source": [
    "Encoder(\n",
    "    fc_in=27208,\n",
    "    fc_out=3,\n",
    "    fc_bias=True\n",
    ")"
   ]
  },
  {
   "cell_type": "markdown",
   "metadata": {},
   "source": [
    "## DecoderSCVI class"
   ]
  },
  {
   "cell_type": "code",
   "execution_count": 62,
   "metadata": {},
   "outputs": [
    {
     "data": {
      "text/plain": [
       "DecoderSCVI(\n",
       "  (px_decoder): FCLayers(\n",
       "    (fc_layers): Sequential(\n",
       "      (Layer 0): Sequential(\n",
       "        (0): Linear(in_features=62, out_features=3, bias=True)\n",
       "        (1): BatchNorm1d(3, eps=0.001, momentum=0.01, affine=True, track_running_stats=True)\n",
       "        (2): None\n",
       "        (3): ReLU()\n",
       "        (4): None\n",
       "      )\n",
       "    )\n",
       "  )\n",
       "  (px_scale_decoder): Sequential(\n",
       "    (0): Linear(in_features=3, out_features=27208, bias=True)\n",
       "    (1): Softmax(dim=-1)\n",
       "  )\n",
       "  (px_r_decoder): Linear(in_features=3, out_features=27208, bias=True)\n",
       "  (px_dropout_decoder): Linear(in_features=3, out_features=27208, bias=True)\n",
       ")"
      ]
     },
     "execution_count": 62,
     "metadata": {},
     "output_type": "execute_result"
    }
   ],
   "source": [
    "model.module.decoder"
   ]
  },
  {
   "cell_type": "code",
   "execution_count": 93,
   "metadata": {},
   "outputs": [],
   "source": [
    "class DecoderSCVI(nn.Module):\n",
    "\n",
    "    def __init__(\n",
    "            self,\n",
    "            fc_in,\n",
    "            fc_out,\n",
    "            fc_bias,\n",
    "            decoder_in,\n",
    "            decoder_out,\n",
    "            decoder_bias,\n",
    "    ):\n",
    "        super().__init__()\n",
    "        self.fc_in = fc_in\n",
    "        self.fc_out = fc_out\n",
    "        self.fc_bias = fc_bias\n",
    "        self.decoder_in = decoder_in\n",
    "        self.decoder_out = decoder_out\n",
    "        self.decoder_bias = decoder_bias\n",
    "        self.px_decoder = FCLayers(\n",
    "            in_features=fc_in,\n",
    "            out_features=fc_out,\n",
    "            bias=fc_bias,\n",
    "        )\n",
    "        self.px_scale_decoder = nn.Sequential(\n",
    "            nn.Linear(\n",
    "                in_features=decoder_in,\n",
    "                out_features=decoder_out,\n",
    "                bias=decoder_bias\n",
    "            ),\n",
    "            nn.Softmax(dim=1)\n",
    "                    )\n",
    "        self.px_r_decoder = nn.Linear(\n",
    "            in_features=decoder_in,\n",
    "            out_features=decoder_out,\n",
    "            bias=decoder_bias\n",
    "        )\n",
    "        self.px_dropout_decoder = nn.Linear(\n",
    "            in_features=decoder_in,\n",
    "            out_features=decoder_out,\n",
    "            bias=decoder_bias\n",
    "        )\n",
    "\n",
    "    def forward(self, x):\n",
    "        pass"
   ]
  },
  {
   "cell_type": "code",
   "execution_count": 94,
   "metadata": {},
   "outputs": [
    {
     "data": {
      "text/plain": [
       "DecoderSCVI(\n",
       "  (px_decoder): FCLayers(\n",
       "    (fc_layers): Sequential(\n",
       "      (0): Linear(in_features=62, out_features=3, bias=True)\n",
       "      (1): BatchNorm1d(3, eps=0.001, momentum=0.01, affine=True, track_running_stats=True)\n",
       "      (2): ReLU()\n",
       "      (3): Dropout(p=0.1, inplace=False)\n",
       "    )\n",
       "  )\n",
       "  (px_scale_decoder): Sequential(\n",
       "    (0): Linear(in_features=3, out_features=27208, bias=True)\n",
       "    (1): Softmax(dim=1)\n",
       "  )\n",
       "  (px_r_decoder): Linear(in_features=3, out_features=27208, bias=True)\n",
       "  (px_dropout_decoder): Linear(in_features=3, out_features=27208, bias=True)\n",
       ")"
      ]
     },
     "execution_count": 94,
     "metadata": {},
     "output_type": "execute_result"
    }
   ],
   "source": [
    "DecoderSCVI(\n",
    "    fc_in=62,\n",
    "    fc_out=3,\n",
    "    fc_bias=True,\n",
    "    decoder_in=3,\n",
    "    decoder_out=27208,\n",
    "    decoder_bias=True\n",
    ")"
   ]
  },
  {
   "cell_type": "markdown",
   "metadata": {},
   "source": [
    "## VAE Class"
   ]
  },
  {
   "cell_type": "code",
   "execution_count": 78,
   "metadata": {},
   "outputs": [
    {
     "data": {
      "text/plain": [
       "VAE(\n",
       "  (z_encoder): Encoder(\n",
       "    (encoder): FCLayers(\n",
       "      (fc_layers): Sequential(\n",
       "        (Layer 0): Sequential(\n",
       "          (0): Linear(in_features=27208, out_features=3, bias=True)\n",
       "          (1): BatchNorm1d(3, eps=0.001, momentum=0.01, affine=True, track_running_stats=True)\n",
       "          (2): None\n",
       "          (3): ReLU()\n",
       "          (4): Dropout(p=0.1, inplace=False)\n",
       "        )\n",
       "      )\n",
       "    )\n",
       "    (mean_encoder): Linear(in_features=3, out_features=50, bias=True)\n",
       "    (var_encoder): Linear(in_features=3, out_features=50, bias=True)\n",
       "  )\n",
       "  (l_encoder): Encoder(\n",
       "    (encoder): FCLayers(\n",
       "      (fc_layers): Sequential(\n",
       "        (Layer 0): Sequential(\n",
       "          (0): Linear(in_features=27208, out_features=3, bias=True)\n",
       "          (1): BatchNorm1d(3, eps=0.001, momentum=0.01, affine=True, track_running_stats=True)\n",
       "          (2): None\n",
       "          (3): ReLU()\n",
       "          (4): Dropout(p=0.1, inplace=False)\n",
       "        )\n",
       "      )\n",
       "    )\n",
       "    (mean_encoder): Linear(in_features=3, out_features=1, bias=True)\n",
       "    (var_encoder): Linear(in_features=3, out_features=1, bias=True)\n",
       "  )\n",
       "  (decoder): DecoderSCVI(\n",
       "    (px_decoder): FCLayers(\n",
       "      (fc_layers): Sequential(\n",
       "        (Layer 0): Sequential(\n",
       "          (0): Linear(in_features=62, out_features=3, bias=True)\n",
       "          (1): BatchNorm1d(3, eps=0.001, momentum=0.01, affine=True, track_running_stats=True)\n",
       "          (2): None\n",
       "          (3): ReLU()\n",
       "          (4): None\n",
       "        )\n",
       "      )\n",
       "    )\n",
       "    (px_scale_decoder): Sequential(\n",
       "      (0): Linear(in_features=3, out_features=27208, bias=True)\n",
       "      (1): Softmax(dim=-1)\n",
       "    )\n",
       "    (px_r_decoder): Linear(in_features=3, out_features=27208, bias=True)\n",
       "    (px_dropout_decoder): Linear(in_features=3, out_features=27208, bias=True)\n",
       "  )\n",
       ")"
      ]
     },
     "execution_count": 78,
     "metadata": {},
     "output_type": "execute_result"
    }
   ],
   "source": [
    "model.module"
   ]
  },
  {
   "cell_type": "code",
   "execution_count": 97,
   "metadata": {},
   "outputs": [],
   "source": [
    "class VAE(nn.Module):\n",
    "    def __init__(\n",
    "            self,\n",
    "            z_enc_fc_in,\n",
    "            z_enc_fc_out,\n",
    "            z_enc_fc_bias,\n",
    "            l_enc_fc_in,\n",
    "            l_enc_fc_out,\n",
    "            l_enc_fc_bias,\n",
    "            decoder_fc_in,\n",
    "            decoder_fc_out,\n",
    "            decoder_fc_bias,\n",
    "            decoder_in,\n",
    "            decoder_out,\n",
    "            decoder_bias,\n",
    "    ):\n",
    "        self.z_enc_fc_in = z_enc_fc_in\n",
    "        self.z_enc_fc_out = z_enc_fc_out\n",
    "        self.z_enc_fc_bias = z_enc_fc_bias\n",
    "        self.l_enc_fc_in = l_enc_fc_in\n",
    "        self.l_enc_fc_out = l_enc_fc_out\n",
    "        self.l_enc_fc_bias = l_enc_fc_bias\n",
    "        self.decoder_fc_in = decoder_fc_in\n",
    "        self.decoder_fc_out = decoder_fc_out\n",
    "        self.decoder_fc_bias = decoder_fc_bias\n",
    "        self.decoder_in = decoder_in\n",
    "        self.decoder_out = decoder_out\n",
    "        self.decoder_bias = decoder_bias\n",
    "        super().__init__()\n",
    "        self.z_encoder = Encoder(\n",
    "            fc_in=z_enc_fc_in,\n",
    "            fc_out=z_enc_fc_out,\n",
    "            fc_bias=z_enc_fc_bias,\n",
    "        )\n",
    "        self.l_encoder = Encoder(\n",
    "            fc_in=l_enc_fc_in,\n",
    "            fc_out=l_enc_fc_out,\n",
    "            fc_bias=l_enc_fc_bias,\n",
    "        )\n",
    "        self.decoder = DecoderSCVI(\n",
    "            fc_in=decoder_fc_in,\n",
    "            fc_out=decoder_fc_out,\n",
    "            fc_bias=decoder_fc_bias,\n",
    "            decoder_in=decoder_in,\n",
    "            decoder_out=decoder_out,\n",
    "            decoder_bias=decoder_out\n",
    "        )\n",
    "\n",
    "    def forward(self, x):\n",
    "        pass\n"
   ]
  },
  {
   "cell_type": "code",
   "execution_count": 107,
   "metadata": {},
   "outputs": [
    {
     "data": {
      "text/plain": [
       "Sequential(\n",
       "  (0): Linear(in_features=27208, out_features=3, bias=True)\n",
       "  (1): BatchNorm1d(3, eps=0.001, momentum=0.01, affine=True, track_running_stats=True)\n",
       "  (2): ReLU()\n",
       "  (3): Dropout(p=0.1, inplace=False)\n",
       ")"
      ]
     },
     "execution_count": 107,
     "metadata": {},
     "output_type": "execute_result"
    }
   ],
   "source": [
    "VAE(\n",
    "    z_enc_fc_in=27208,\n",
    "    z_enc_fc_out=3,\n",
    "    z_enc_fc_bias=True,\n",
    "    l_enc_fc_in=27208,\n",
    "    l_enc_fc_out=3,\n",
    "    l_enc_fc_bias=True,\n",
    "    decoder_fc_in=62,\n",
    "    decoder_fc_out=3,\n",
    "    decoder_fc_bias=True,\n",
    "    decoder_in=3,\n",
    "    decoder_out=27208,\n",
    "    decoder_bias=True,\n",
    ").z_encoder.encoder.fc_layers"
   ]
  }
 ],
 "metadata": {
  "kernelspec": {
   "display_name": "pytorch-env",
   "language": "python",
   "name": "python3"
  },
  "language_info": {
   "codemirror_mode": {
    "name": "ipython",
    "version": 3
   },
   "file_extension": ".py",
   "mimetype": "text/x-python",
   "name": "python",
   "nbconvert_exporter": "python",
   "pygments_lexer": "ipython3",
   "version": "3.10.13"
  }
 },
 "nbformat": 4,
 "nbformat_minor": 2
}
