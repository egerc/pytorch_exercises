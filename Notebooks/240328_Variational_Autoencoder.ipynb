{
 "cells": [
  {
   "cell_type": "markdown",
   "metadata": {},
   "source": [
    "# Variational Autoencoder\n",
    "    Developed by: Christian Eger\n",
    "    Würzburg Institute for Systems Immunology, Faculty of Medicine, Julius-Maximilian-Universität Würzburg\n",
    "    Created: 240328\n",
    "    Latest version: 240328"
   ]
  },
  {
   "cell_type": "code",
   "execution_count": 1,
   "metadata": {},
   "outputs": [],
   "source": [
    "import torch\n",
    "from torch import nn\n",
    "from torch.utils.data import DataLoader\n",
    "import torch.nn.functional as F\n",
    "\n",
    "import anndata as ad\n",
    "import helper\n",
    "from tqdm import tqdm\n",
    "import scanpy as sc\n",
    "import matplotlib.pyplot as plt"
   ]
  },
  {
   "cell_type": "code",
   "execution_count": 2,
   "metadata": {},
   "outputs": [
    {
     "data": {
      "text/plain": [
       "AnnData object with n_obs × n_vars = 97573 × 27208\n",
       "    obs: 'sex', 'age', 'ethnicity', 'PaCO2', 'donor', 'infection', 'disease', 'SMK', 'illumina_stimunr', 'bd_rhapsody', 'n_genes', 'doublet_scores', 'predicted_doublets', 'batch', 'n_genes_by_counts', 'total_counts', 'total_counts_mt', 'pct_counts_mt', 'total_counts_ribo', 'pct_counts_ribo', 'percent_mt2', 'n_counts', 'percent_chrY', 'XIST-counts', 'S_score', 'G2M_score', 'condition', 'sample_group', 'IAV_score', 'group', 'Viral_score', 'cell_type', 'cell_states', 'leiden', 'cell_compartment', 'seed_labels', '_scvi_batch', '_scvi_labels', 'C_scANVI'\n",
       "    var: 'mt', 'ribo'\n",
       "    obsm: 'X_scANVI', 'X_scVI', 'X_umap'"
      ]
     },
     "execution_count": 2,
     "metadata": {},
     "output_type": "execute_result"
    }
   ],
   "source": [
    "adata = ad.read_h5ad(\n",
    "    '../data/Marburg_cell_states_locked_scANVI_ctl230901.raw.h5ad'\n",
    ")\n",
    "adata"
   ]
  },
  {
   "cell_type": "code",
   "execution_count": 3,
   "metadata": {},
   "outputs": [],
   "source": [
    "sc.pp.normalize_total(adata)"
   ]
  },
  {
   "cell_type": "code",
   "execution_count": 4,
   "metadata": {},
   "outputs": [],
   "source": [
    "training_size, testing_size = helper.return_dataset_sizes(adata, 0.8, 0.1)\n",
    "\n",
    "training_data, testing_data = helper.obs_to_tensor(adata, category=None, training_size=training_size, testing_size=testing_size)\n",
    "\n",
    "training_dataloader = DataLoader(training_data, batch_size=64, shuffle=True)\n",
    "testing_dataloader = DataLoader(testing_data, batch_size=64, shuffle=False)"
   ]
  },
  {
   "cell_type": "code",
   "execution_count": 5,
   "metadata": {},
   "outputs": [],
   "source": [
    "class VAE(nn.Module):\n",
    "    def __init__(self, data_size, latent_dim):\n",
    "        super().__init__()\n",
    "        # encoder\n",
    "        self.fc_enc1 = nn.Linear(data_size, 5000)\n",
    "        self.fc_enc2 = nn.Linear(5000, 1000)\n",
    "        self.fc_enc3 = nn.Linear(1000, 200)\n",
    "\n",
    "        # sampling distribution parameters\n",
    "        self.fc_mu = nn.Linear(200, latent_dim)\n",
    "        self.fc_logvar = nn.Linear(200, latent_dim)\n",
    "\n",
    "        #decoder\n",
    "        self.fc_dec1 = nn.Linear(latent_dim, 200)\n",
    "        self.fc_dec2 = nn.Linear(200, 1000)\n",
    "        self.fc_dec3 = nn.Linear(1000, 5000)\n",
    "        self.fc_dec4 = nn.Linear(5000, data_size)\n",
    "\n",
    "    def reparametrize(self, mu, logvar):\n",
    "        std = torch.exp(0.5 * logvar)\n",
    "        eps = torch.randn_like(std)\n",
    "        sample = mu + (eps * std)\n",
    "        return sample\n",
    "\n",
    "    def forward(self, x):\n",
    "        x = F.relu(self.fc_enc1(x))\n",
    "        x = F.relu(self.fc_enc2(x))\n",
    "        x = F.relu(self.fc_enc3(x))\n",
    "\n",
    "        mu = self.fc_mu(x)\n",
    "        logvar = self.fc_logvar(x)\n",
    "        z = self.reparametrize(mu, logvar)\n",
    "        x = self.fc_dec1(z)\n",
    "\n",
    "        x = F.relu(self.fc_dec2(x))\n",
    "        x = F.relu(self.fc_dec3(x))\n",
    "        x = F.relu(self.fc_dec4(x))\n",
    "        return x, mu, logvar"
   ]
  },
  {
   "cell_type": "code",
   "execution_count": 52,
   "metadata": {},
   "outputs": [],
   "source": [
    "def final_loss(bce_loss, mu, logvar):\n",
    "    BCE = bce_loss \n",
    "    KLD = -0.5 * torch.sum(1 + logvar - mu.pow(2) - logvar.exp())\n",
    "    return BCE + KLD\n",
    "\n",
    "def train(model, dataloader, optimizer, criterion, device):\n",
    "    model.to(device)\n",
    "    model.train()\n",
    "    running_loss = 0.0\n",
    "    counter = 0\n",
    "    for i, data in enumerate(dataloader):\n",
    "        counter += 1\n",
    "        optimizer.zero_grad()\n",
    "        reconstruction, mu, logvar = model(data)\n",
    "        bce_loss = criterion(reconstruction, data)\n",
    "        loss = final_loss(bce_loss, mu, logvar)\n",
    "        loss.backward()\n",
    "        running_loss += loss.item()\n",
    "        optimizer.step()\n",
    "    training_loss = running_loss / counter\n",
    "    return training_loss\n",
    "\n",
    "def validate(model, dataloader, criterion, device):\n",
    "    model.to(device)\n",
    "    model.eval()\n",
    "    running_loss = 0.0\n",
    "    counter = 0\n",
    "    with torch.no_grad():\n",
    "        for i, data in enumerate(dataloader):\n",
    "            counter += 1\n",
    "            data = data.to(device)\n",
    "            reconstruction, mu, logvar = model(data) \n",
    "            bce_loss = criterion(reconstruction, data)\n",
    "            loss = final_loss(bce_loss, mu, logvar)\n",
    "            running_loss += loss.item()\n",
    "        validation_loss = running_loss / counter\n",
    "        return validation_loss"
   ]
  },
  {
   "cell_type": "code",
   "execution_count": 7,
   "metadata": {},
   "outputs": [
    {
     "name": "stdout",
     "output_type": "stream",
     "text": [
      "Available CUDA devices:\n",
      "  0: NVIDIA RTX 6000 Ada Generation\n",
      "  1: NVIDIA RTX 6000 Ada Generation\n",
      "Using CUDA device: cuda:1\n"
     ]
    }
   ],
   "source": [
    "if torch.cuda.is_available():\n",
    "    num_devices = torch.cuda.device_count()\n",
    "    print(\"Available CUDA devices:\")\n",
    "    for i in range(num_devices):\n",
    "        print(f\"  {i}: {torch.cuda.get_device_name(i)}\")\n",
    "    device = torch.device(\"cuda:1\") \n",
    "    print(f\"Using CUDA device: {device}\")\n",
    "    torch.cuda.set_device(device)\n",
    "else:\n",
    "    print(\"CUDA is not available. Using CPU.\")\n",
    "    device = torch.device(\"cpu\")"
   ]
  },
  {
   "cell_type": "code",
   "execution_count": 45,
   "metadata": {},
   "outputs": [],
   "source": [
    "data_size = training_data.shape[1]\n",
    "model = VAE(\n",
    "    data_size=data_size,\n",
    "    latent_dim=64,\n",
    ")\n",
    "dataloader = training_data\n",
    "optimizer = torch.optim.Adam(model.parameters(), lr=0.005)\n",
    "criterion = nn.BCEWithLogitsLoss()"
   ]
  },
  {
   "cell_type": "code",
   "execution_count": 54,
   "metadata": {},
   "outputs": [
    {
     "name": "stderr",
     "output_type": "stream",
     "text": [
      "  0%|          | 0/1 [00:00<?, ?it/s]\n"
     ]
    },
    {
     "ename": "AttributeError",
     "evalue": "'DataLoader' object has no attribute 'to'",
     "output_type": "error",
     "traceback": [
      "\u001b[0;31m---------------------------------------------------------------------------\u001b[0m",
      "\u001b[0;31mAttributeError\u001b[0m                            Traceback (most recent call last)",
      "\u001b[1;32m/mnt/LaCIE/ceger/Projects/exercises/pytorch_exercises/Notebooks/240328_Variational_Autoencoder.ipynb Cell 10\u001b[0m line \u001b[0;36m8\n\u001b[1;32m      <a href='vscode-notebook-cell://ssh-remote%2B132.187.167.21/mnt/LaCIE/ceger/Projects/exercises/pytorch_exercises/Notebooks/240328_Variational_Autoencoder.ipynb#X24sdnNjb2RlLXJlbW90ZQ%3D%3D?line=3'>4</a>\u001b[0m validation_losses \u001b[39m=\u001b[39m []\n\u001b[1;32m      <a href='vscode-notebook-cell://ssh-remote%2B132.187.167.21/mnt/LaCIE/ceger/Projects/exercises/pytorch_exercises/Notebooks/240328_Variational_Autoencoder.ipynb#X24sdnNjb2RlLXJlbW90ZQ%3D%3D?line=5'>6</a>\u001b[0m \u001b[39mfor\u001b[39;00m epoch \u001b[39min\u001b[39;00m tqdm(\u001b[39mrange\u001b[39m(epochs)):\n\u001b[0;32m----> <a href='vscode-notebook-cell://ssh-remote%2B132.187.167.21/mnt/LaCIE/ceger/Projects/exercises/pytorch_exercises/Notebooks/240328_Variational_Autoencoder.ipynb#X24sdnNjb2RlLXJlbW90ZQ%3D%3D?line=7'>8</a>\u001b[0m     training_loss \u001b[39m=\u001b[39m train(\n\u001b[1;32m      <a href='vscode-notebook-cell://ssh-remote%2B132.187.167.21/mnt/LaCIE/ceger/Projects/exercises/pytorch_exercises/Notebooks/240328_Variational_Autoencoder.ipynb#X24sdnNjb2RlLXJlbW90ZQ%3D%3D?line=8'>9</a>\u001b[0m         model,\n\u001b[1;32m     <a href='vscode-notebook-cell://ssh-remote%2B132.187.167.21/mnt/LaCIE/ceger/Projects/exercises/pytorch_exercises/Notebooks/240328_Variational_Autoencoder.ipynb#X24sdnNjb2RlLXJlbW90ZQ%3D%3D?line=9'>10</a>\u001b[0m         training_dataloader,\n\u001b[1;32m     <a href='vscode-notebook-cell://ssh-remote%2B132.187.167.21/mnt/LaCIE/ceger/Projects/exercises/pytorch_exercises/Notebooks/240328_Variational_Autoencoder.ipynb#X24sdnNjb2RlLXJlbW90ZQ%3D%3D?line=10'>11</a>\u001b[0m         optimizer,\n\u001b[1;32m     <a href='vscode-notebook-cell://ssh-remote%2B132.187.167.21/mnt/LaCIE/ceger/Projects/exercises/pytorch_exercises/Notebooks/240328_Variational_Autoencoder.ipynb#X24sdnNjb2RlLXJlbW90ZQ%3D%3D?line=11'>12</a>\u001b[0m         criterion,\n\u001b[1;32m     <a href='vscode-notebook-cell://ssh-remote%2B132.187.167.21/mnt/LaCIE/ceger/Projects/exercises/pytorch_exercises/Notebooks/240328_Variational_Autoencoder.ipynb#X24sdnNjb2RlLXJlbW90ZQ%3D%3D?line=12'>13</a>\u001b[0m         device,\n\u001b[1;32m     <a href='vscode-notebook-cell://ssh-remote%2B132.187.167.21/mnt/LaCIE/ceger/Projects/exercises/pytorch_exercises/Notebooks/240328_Variational_Autoencoder.ipynb#X24sdnNjb2RlLXJlbW90ZQ%3D%3D?line=13'>14</a>\u001b[0m     )\n\u001b[1;32m     <a href='vscode-notebook-cell://ssh-remote%2B132.187.167.21/mnt/LaCIE/ceger/Projects/exercises/pytorch_exercises/Notebooks/240328_Variational_Autoencoder.ipynb#X24sdnNjb2RlLXJlbW90ZQ%3D%3D?line=14'>15</a>\u001b[0m     \u001b[39mprint\u001b[39m(training_loss)\n\u001b[1;32m     <a href='vscode-notebook-cell://ssh-remote%2B132.187.167.21/mnt/LaCIE/ceger/Projects/exercises/pytorch_exercises/Notebooks/240328_Variational_Autoencoder.ipynb#X24sdnNjb2RlLXJlbW90ZQ%3D%3D?line=15'>16</a>\u001b[0m     training_losses\u001b[39m.\u001b[39mappend(training_loss)\n",
      "\u001b[1;32m/mnt/LaCIE/ceger/Projects/exercises/pytorch_exercises/Notebooks/240328_Variational_Autoencoder.ipynb Cell 10\u001b[0m line \u001b[0;36m1\n\u001b[1;32m      <a href='vscode-notebook-cell://ssh-remote%2B132.187.167.21/mnt/LaCIE/ceger/Projects/exercises/pytorch_exercises/Notebooks/240328_Variational_Autoencoder.ipynb#X24sdnNjb2RlLXJlbW90ZQ%3D%3D?line=8'>9</a>\u001b[0m running_loss \u001b[39m=\u001b[39m \u001b[39m0.0\u001b[39m\n\u001b[1;32m     <a href='vscode-notebook-cell://ssh-remote%2B132.187.167.21/mnt/LaCIE/ceger/Projects/exercises/pytorch_exercises/Notebooks/240328_Variational_Autoencoder.ipynb#X24sdnNjb2RlLXJlbW90ZQ%3D%3D?line=9'>10</a>\u001b[0m counter \u001b[39m=\u001b[39m \u001b[39m0\u001b[39m\n\u001b[0;32m---> <a href='vscode-notebook-cell://ssh-remote%2B132.187.167.21/mnt/LaCIE/ceger/Projects/exercises/pytorch_exercises/Notebooks/240328_Variational_Autoencoder.ipynb#X24sdnNjb2RlLXJlbW90ZQ%3D%3D?line=10'>11</a>\u001b[0m dataloader\u001b[39m.\u001b[39;49mto(device)\n\u001b[1;32m     <a href='vscode-notebook-cell://ssh-remote%2B132.187.167.21/mnt/LaCIE/ceger/Projects/exercises/pytorch_exercises/Notebooks/240328_Variational_Autoencoder.ipynb#X24sdnNjb2RlLXJlbW90ZQ%3D%3D?line=11'>12</a>\u001b[0m \u001b[39mfor\u001b[39;00m i, data \u001b[39min\u001b[39;00m \u001b[39menumerate\u001b[39m(dataloader):\n\u001b[1;32m     <a href='vscode-notebook-cell://ssh-remote%2B132.187.167.21/mnt/LaCIE/ceger/Projects/exercises/pytorch_exercises/Notebooks/240328_Variational_Autoencoder.ipynb#X24sdnNjb2RlLXJlbW90ZQ%3D%3D?line=12'>13</a>\u001b[0m     counter \u001b[39m+\u001b[39m\u001b[39m=\u001b[39m \u001b[39m1\u001b[39m\n",
      "\u001b[0;31mAttributeError\u001b[0m: 'DataLoader' object has no attribute 'to'"
     ]
    }
   ],
   "source": [
    "model.to(device)\n",
    "epochs = 1\n",
    "training_losses = []\n",
    "validation_losses = []\n",
    "\n",
    "for epoch in tqdm(range(epochs)):\n",
    "\n",
    "    training_loss = train(\n",
    "        model,\n",
    "        training_dataloader,\n",
    "        optimizer,\n",
    "        criterion,\n",
    "        device,\n",
    "    )\n",
    "    print(training_loss)\n",
    "    training_losses.append(training_loss)\n",
    "\n",
    "    validation_loss = validate(\n",
    "        model,\n",
    "        testing_dataloader,\n",
    "        criterion,\n",
    "        device,\n",
    "    )\n",
    "    print(validation_loss)\n",
    "    validation_losses.append(validation_loss)"
   ]
  },
  {
   "cell_type": "code",
   "execution_count": 53,
   "metadata": {},
   "outputs": [
    {
     "ename": "AttributeError",
     "evalue": "'DataLoader' object has no attribute 'to'",
     "output_type": "error",
     "traceback": [
      "\u001b[0;31m---------------------------------------------------------------------------\u001b[0m",
      "\u001b[0;31mAttributeError\u001b[0m                            Traceback (most recent call last)",
      "\u001b[1;32m/mnt/LaCIE/ceger/Projects/exercises/pytorch_exercises/Notebooks/240328_Variational_Autoencoder.ipynb Cell 11\u001b[0m line \u001b[0;36m2\n\u001b[1;32m      <a href='vscode-notebook-cell://ssh-remote%2B132.187.167.21/mnt/LaCIE/ceger/Projects/exercises/pytorch_exercises/Notebooks/240328_Variational_Autoencoder.ipynb#X45sdnNjb2RlLXJlbW90ZQ%3D%3D?line=0'>1</a>\u001b[0m model\u001b[39m.\u001b[39mto(\u001b[39m'\u001b[39m\u001b[39mcpu\u001b[39m\u001b[39m'\u001b[39m)\n\u001b[0;32m----> <a href='vscode-notebook-cell://ssh-remote%2B132.187.167.21/mnt/LaCIE/ceger/Projects/exercises/pytorch_exercises/Notebooks/240328_Variational_Autoencoder.ipynb#X45sdnNjb2RlLXJlbW90ZQ%3D%3D?line=1'>2</a>\u001b[0m train(model, training_dataloader, optimizer, criterion, \u001b[39m'\u001b[39;49m\u001b[39mcpu\u001b[39;49m\u001b[39m'\u001b[39;49m)\n",
      "\u001b[1;32m/mnt/LaCIE/ceger/Projects/exercises/pytorch_exercises/Notebooks/240328_Variational_Autoencoder.ipynb Cell 11\u001b[0m line \u001b[0;36m1\n\u001b[1;32m      <a href='vscode-notebook-cell://ssh-remote%2B132.187.167.21/mnt/LaCIE/ceger/Projects/exercises/pytorch_exercises/Notebooks/240328_Variational_Autoencoder.ipynb#X45sdnNjb2RlLXJlbW90ZQ%3D%3D?line=8'>9</a>\u001b[0m running_loss \u001b[39m=\u001b[39m \u001b[39m0.0\u001b[39m\n\u001b[1;32m     <a href='vscode-notebook-cell://ssh-remote%2B132.187.167.21/mnt/LaCIE/ceger/Projects/exercises/pytorch_exercises/Notebooks/240328_Variational_Autoencoder.ipynb#X45sdnNjb2RlLXJlbW90ZQ%3D%3D?line=9'>10</a>\u001b[0m counter \u001b[39m=\u001b[39m \u001b[39m0\u001b[39m\n\u001b[0;32m---> <a href='vscode-notebook-cell://ssh-remote%2B132.187.167.21/mnt/LaCIE/ceger/Projects/exercises/pytorch_exercises/Notebooks/240328_Variational_Autoencoder.ipynb#X45sdnNjb2RlLXJlbW90ZQ%3D%3D?line=10'>11</a>\u001b[0m dataloader\u001b[39m.\u001b[39;49mto(device)\n\u001b[1;32m     <a href='vscode-notebook-cell://ssh-remote%2B132.187.167.21/mnt/LaCIE/ceger/Projects/exercises/pytorch_exercises/Notebooks/240328_Variational_Autoencoder.ipynb#X45sdnNjb2RlLXJlbW90ZQ%3D%3D?line=11'>12</a>\u001b[0m \u001b[39mfor\u001b[39;00m i, data \u001b[39min\u001b[39;00m \u001b[39menumerate\u001b[39m(dataloader):\n\u001b[1;32m     <a href='vscode-notebook-cell://ssh-remote%2B132.187.167.21/mnt/LaCIE/ceger/Projects/exercises/pytorch_exercises/Notebooks/240328_Variational_Autoencoder.ipynb#X45sdnNjb2RlLXJlbW90ZQ%3D%3D?line=12'>13</a>\u001b[0m     counter \u001b[39m+\u001b[39m\u001b[39m=\u001b[39m \u001b[39m1\u001b[39m\n",
      "\u001b[0;31mAttributeError\u001b[0m: 'DataLoader' object has no attribute 'to'"
     ]
    }
   ],
   "source": [
    "model.to('cpu')\n",
    "train(model, training_dataloader, optimizer, criterion, 'cpu')"
   ]
  },
  {
   "cell_type": "code",
   "execution_count": 16,
   "metadata": {},
   "outputs": [
    {
     "data": {
      "image/png": "[encoded data removed]",
      "text/plain": [
       "<Figure size 640x480 with 2 Axes>"
      ]
     },
     "metadata": {},
     "output_type": "display_data"
    }
   ],
   "source": [
    "helper.plot_scaled_losses(training_losses, validation_losses, epochs)"
   ]
  }
 ],
 "metadata": {
  "kernelspec": {
   "display_name": "pytorch-env",
   "language": "python",
   "name": "python3"
  },
  "language_info": {
   "codemirror_mode": {
    "name": "ipython",
    "version": 3
   },
   "file_extension": ".py",
   "mimetype": "text/x-python",
   "name": "python",
   "nbconvert_exporter": "python",
   "pygments_lexer": "ipython3",
   "version": "3.10.13"
  }
 },
 "nbformat": 4,
 "nbformat_minor": 2
}
